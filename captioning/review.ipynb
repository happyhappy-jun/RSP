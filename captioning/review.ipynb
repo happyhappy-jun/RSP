{
 "cells": [
  {
   "cell_type": "code",
   "execution_count": 2,
   "metadata": {},
   "outputs": [],
   "source": [
    "import json\n",
    "\n",
    "file_path = \"/home/byungjun/RSP/artifacts/results/frame_analysis_results_complete.json\"\n",
    "\n",
    "data = json.load(open(file_path))"
   ]
  },
  {
   "cell_type": "code",
   "execution_count": 9,
   "metadata": {},
   "outputs": [
    {
     "name": "stdout",
     "output_type": "stream",
     "text": [
      "1. **Main Action:** The subject is climbing up a steep, rocky slope using a rope for support.\n",
      "\n",
      "2. **Temporal Changes:** The frames depict the subject progressively moving upward, gaining height as they pull themselves along the rope. Each frame captures a slightly higher perspective of the climber in relation to their starting point.\n",
      "\n",
      "3. **Movement Details:**\n",
      "   - **Subject movements and position changes:** The climber is positioned lower in the first frame and gradually ascends towards the top in the subsequent frames, pulling on the rope.\n",
      "   - **Camera movements:** The camera remains steady, focusing on the climber as they ascend, providing a consistent view of their progression.\n",
      "   - **Changes in background elements:** The surrounding vegetation and rocky terrain remain constant, with slight shifts in perspective as the climber moves upward. The plant life and rocky features are visible in each frame, emphasizing the steepness of the slope.\n"
     ]
    }
   ],
   "source": [
    "print(data[\"results\"][100]['analysis'])"
   ]
  },
  {
   "cell_type": "code",
   "execution_count": 19,
   "metadata": {},
   "outputs": [
    {
     "name": "stdout",
     "output_type": "stream",
     "text": [
      "/home/byungjun/RSP/artifacts/frames/carrying_baby/57VLiInZcNk_000020_000030\n",
      "1. **Main Action:** A woman is interacting closely with a baby, showcasing a moment of playful engagement.\n",
      "\n",
      "2. **Temporal Changes:** The scene evolves from the woman initially holding the baby at a distance to gradually bringing the baby closer to her. The focus shifts between their expressions and interactions.\n",
      "\n",
      "3. **Movement Details:**\n",
      "   - **Subject movements and position changes:** The woman's position remains relatively stable, but she shifts the baby slightly closer to her body, adjusting the hold to create intimacy. The baby's expression transitions from neutral to more animated.\n",
      "   - **Camera movements:** There is no notable camera movement; the framing remains consistent throughout the sequence.\n",
      "   - **Changes in background elements:** The background remains constant, with a plain green wall, contributing to the focus on the subjects.\n"
     ]
    }
   ],
   "source": [
    "idx = 10000\n",
    "print(\"/\".join(data[\"results\"][idx]['frame_paths'][0].split(\"/\")[:-1]))\n",
    "print(data[\"results\"][idx]['analysis'])"
   ]
  },
  {
   "cell_type": "markdown",
   "metadata": {},
   "source": []
  },
  {
   "cell_type": "code",
   "execution_count": null,
   "metadata": {},
   "outputs": [],
   "source": []
  }
 ],
 "metadata": {
  "kernelspec": {
   "display_name": "rsp",
   "language": "python",
   "name": "python3"
  },
  "language_info": {
   "codemirror_mode": {
    "name": "ipython",
    "version": 3
   },
   "file_extension": ".py",
   "mimetype": "text/x-python",
   "name": "python",
   "nbconvert_exporter": "python",
   "pygments_lexer": "ipython3",
   "version": "3.9.20"
  }
 },
 "nbformat": 4,
 "nbformat_minor": 2
}
